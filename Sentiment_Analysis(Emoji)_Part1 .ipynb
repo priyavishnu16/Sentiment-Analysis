{
  "nbformat": 4,
  "nbformat_minor": 0,
  "metadata": {
    "colab": {
      "name": "Sentiment Analysis(Emoji)_Part1.ipynb",
      "provenance": [],
      "collapsed_sections": []
    },
    "kernelspec": {
      "name": "python3",
      "display_name": "Python 3"
    }
  },
  "cells": [
    {
      "cell_type": "markdown",
      "metadata": {
        "id": "nuLlLhv4prHs",
        "colab_type": "text"
      },
      "source": [
        "Part 1"
      ]
    },
    {
      "cell_type": "code",
      "metadata": {
        "id": "XUqlyLqlrEpj",
        "colab_type": "code",
        "colab": {
          "base_uri": "https://localhost:8080/",
          "height": 34
        },
        "outputId": "4d0153f0-4a59-4d9d-93fe-881151262f70"
      },
      "source": [
        "pip install emoji"
      ],
      "execution_count": null,
      "outputs": [
        {
          "output_type": "stream",
          "text": [
            "Requirement already satisfied: emoji in /usr/local/lib/python3.6/dist-packages (0.5.4)\n"
          ],
          "name": "stdout"
        }
      ]
    },
    {
      "cell_type": "code",
      "metadata": {
        "id": "se8GWL2-Hy_B",
        "colab_type": "code",
        "colab": {
          "base_uri": "https://localhost:8080/",
          "height": 68
        },
        "outputId": "4d17a237-6f39-4e2c-a4f3-d5553a8a7829"
      },
      "source": [
        "#Reading .txt file line by line\n",
        "file1 = open('tst.txt', 'r') \n",
        "Lines = file1.readlines() \n",
        "  \n",
        "count = 1\n",
        "# Strips the newline character \n",
        "for line in Lines: \n",
        "    print(\"Line {}: {}\".format(count, line.strip()))\n",
        "    count = count+1 "
      ],
      "execution_count": 8,
      "outputs": [
        {
          "output_type": "stream",
          "text": [
            "Line 1: tweet_id, text\n",
            "Line 2: 1, I really love @taylorswift songs !!😍\n",
            "Line 3: 2, I dislike the latest shows 😭\n"
          ],
          "name": "stdout"
        }
      ]
    },
    {
      "cell_type": "code",
      "metadata": {
        "id": "jLtsgvP9ThOj",
        "colab_type": "code",
        "colab": {
          "base_uri": "https://localhost:8080/",
          "height": 68
        },
        "outputId": "8bc3280c-261d-45e6-ca82-c2f5ea63657a"
      },
      "source": [
        "#Convert emoji characters to words and saving in a new file \n",
        "import emoji\n",
        "file1 = open(\"data.txt\",\"a\") #append mode \n",
        "count = 1\n",
        "for line in Lines :\n",
        "  s= emoji.demojize(line.strip())\n",
        "  print(s) \n",
        "  file1.write(s)\n",
        "  file1.write(\"\\n\")\n",
        "  count = count+1 \n",
        "\n",
        "file1.close()\n"
      ],
      "execution_count": 9,
      "outputs": [
        {
          "output_type": "stream",
          "text": [
            "tweet_id, text\n",
            "1, I really love @taylorswift songs !!:smiling_face_with_heart-eyes:\n",
            "2, I dislike the latest shows :loudly_crying_face:\n"
          ],
          "name": "stdout"
        }
      ]
    },
    {
      "cell_type": "code",
      "metadata": {
        "id": "eUWg1ZckLPWp",
        "colab_type": "code",
        "colab": {}
      },
      "source": [
        "#converttext file to csv utf-8 file for the next step of processing\n",
        "import pandas as pd \n",
        "read_file = pd.read_csv (r'data.txt')\n",
        "read_file.to_csv (r'data.csv', index=None)\n"
      ],
      "execution_count": 10,
      "outputs": []
    },
    {
      "cell_type": "code",
      "metadata": {
        "id": "8Byw7qXwLmar",
        "colab_type": "code",
        "colab": {
          "base_uri": "https://localhost:8080/",
          "height": 111
        },
        "outputId": "86811eb1-b4c5-4936-f3c5-05be3fb5754c"
      },
      "source": [
        "#Checking csv file \n",
        "data= pd.read_csv('data.csv' ,encoding=\"utf-8\")\n",
        "data.head()"
      ],
      "execution_count": 11,
      "outputs": [
        {
          "output_type": "execute_result",
          "data": {
            "text/html": [
              "<div>\n",
              "<style scoped>\n",
              "    .dataframe tbody tr th:only-of-type {\n",
              "        vertical-align: middle;\n",
              "    }\n",
              "\n",
              "    .dataframe tbody tr th {\n",
              "        vertical-align: top;\n",
              "    }\n",
              "\n",
              "    .dataframe thead th {\n",
              "        text-align: right;\n",
              "    }\n",
              "</style>\n",
              "<table border=\"1\" class=\"dataframe\">\n",
              "  <thead>\n",
              "    <tr style=\"text-align: right;\">\n",
              "      <th></th>\n",
              "      <th>tweet_id</th>\n",
              "      <th>text</th>\n",
              "    </tr>\n",
              "  </thead>\n",
              "  <tbody>\n",
              "    <tr>\n",
              "      <th>0</th>\n",
              "      <td>1</td>\n",
              "      <td>I really love @taylorswift songs !!:smiling_f...</td>\n",
              "    </tr>\n",
              "    <tr>\n",
              "      <th>1</th>\n",
              "      <td>2</td>\n",
              "      <td>I dislike the latest shows :loudly_crying_face:</td>\n",
              "    </tr>\n",
              "  </tbody>\n",
              "</table>\n",
              "</div>"
            ],
            "text/plain": [
              "   tweet_id                                               text\n",
              "0         1   I really love @taylorswift songs !!:smiling_f...\n",
              "1         2    I dislike the latest shows :loudly_crying_face:"
            ]
          },
          "metadata": {
            "tags": []
          },
          "execution_count": 11
        }
      ]
    }
  ]
}